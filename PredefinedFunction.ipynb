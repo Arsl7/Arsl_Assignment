{
 "cells": [
  {
   "cell_type": "code",
   "execution_count": 13,
   "metadata": {},
   "outputs": [
    {
     "name": "stdout",
     "output_type": "stream",
     "text": [
      "my name is arslan shehzad khan\n",
      "My name is arslan shehzad khan\n",
      "+my name is arslan shehzad khan\n",
      "+my name is arslan shehzad khan\n"
     ]
    }
   ],
   "source": [
    "#Capitalize a Sentence\n",
    "#The capitalize() function returns a string with first letter capitalized and all other characters lowercased. \n",
    "#It doesn't modify\n",
    "# Python program to demonstrate the  \n",
    "# use of capitalize() function \n",
    "######################################\n",
    "name = \"my name is arslan shehzad khan\"\n",
    "name_capitalize = name.capitalize()\n",
    "print( name )\n",
    "print( name_capitalize  )\n",
    "################################\n",
    "\n"
   ]
  },
  {
   "cell_type": "code",
   "execution_count": 14,
   "metadata": {},
   "outputs": [
    {
     "name": "stdout",
     "output_type": "stream",
     "text": [
      "+my name is arslan shehzad khan\n",
      "+my name is arslan shehzad khan\n"
     ]
    }
   ],
   "source": [
    "###########Non-alphabetic First Character##################\n",
    "#######################################\n",
    "my_name = \"+my name is arslan shehzad khan\"\n",
    "my_name_capitalize = my_name.capitalize()\n",
    "print( my_name )\n",
    "print( my_name_capitalize  )\n",
    "#########################################"
   ]
  },
  {
   "cell_type": "code",
   "execution_count": 5,
   "metadata": {},
   "outputs": [
    {
     "name": "stdout",
     "output_type": "stream",
     "text": [
      "my name is arslan shehzad khan\n",
      "                                   my name is arslan shehzad khan                                   \n"
     ]
    }
   ],
   "source": [
    "#Python String center()\n",
    "#center() Parameters\n",
    "#The center() method takes two arguments:\n",
    "#width - length of the string with padded characters\n",
    "#fillchar (optional) - padding character\n",
    "#The fillchar argument is optional. If it's not provided, space is taken as default argument.\n",
    "#The center() method returns a string padded with specified fillchar. It doesn't modify the original string.\n",
    "############# center() Method With Default fillchar #####################\n",
    "######################################\n",
    "name1 = \"my name is arslan shehzad khan\"\n",
    "new_name1 = name1.center(100)\n",
    "print( name1 )\n",
    "print( new_name1 )\n",
    "################################\n"
   ]
  },
  {
   "cell_type": "code",
   "execution_count": 10,
   "metadata": {},
   "outputs": [
    {
     "name": "stdout",
     "output_type": "stream",
     "text": [
      "my name is arslan shehzad khan\n",
      "----------my name is arslan shehzad khan----------\n"
     ]
    }
   ],
   "source": [
    "################ center() Method With -  fillchar ####################\n",
    "######################################\n",
    "name2 = \"my name is arslan shehzad khan\"\n",
    "new_name2 = name2.center(50,'-')\n",
    "print( name2 )\n",
    "print( new_name2 )\n",
    "################################"
   ]
  },
  {
   "cell_type": "code",
   "execution_count": 13,
   "metadata": {},
   "outputs": [
    {
     "name": "stdout",
     "output_type": "stream",
     "text": [
      "MY NAME ARSLAN SHEHZAD KHAN \n",
      "my name arslan shehzad khan \n"
     ]
    }
   ],
   "source": [
    "#Python String casefold()\n",
    "#The casefold() method is removes all case distinctions present in a string. \n",
    "#It is used for caseless matching, i.e. ignores cases when comparing.\n",
    "#For example, German lowercase letter ß is equivalent to ss.\n",
    "#However, since ß is already lowercase, lower() method does nothing to it. But, casefold() converts it to ss.\n",
    "###############Lowercase using casefold()##########################\n",
    "name3 = \"MY NAME ARSLAN SHEHZAD KHAN \"\n",
    "new_name3 = name3.casefold()\n",
    "print( name3 )\n",
    "print( new_name3 )\n",
    "################################\n",
    "\n"
   ]
  },
  {
   "cell_type": "code",
   "execution_count": 20,
   "metadata": {},
   "outputs": [
    {
     "name": "stdout",
     "output_type": "stream",
     "text": [
      "The strings are equal.\n"
     ]
    }
   ],
   "source": [
    "###############Comparison using casefold()####################\n",
    "firststring = \"der Fluß\"\n",
    "secondstring = \"der Fluss\"\n",
    "\n",
    "if firststring.casefold() == secondstring.casefold():\n",
    "    print('The strings are equal.')\n",
    "else:\n",
    "    print('The strings are not equal.')\n",
    "################################################################\n"
   ]
  },
  {
   "cell_type": "code",
   "execution_count": 21,
   "metadata": {},
   "outputs": [
    {
     "name": "stdout",
     "output_type": "stream",
     "text": [
      "This count is: 2\n"
     ]
    }
   ],
   "source": [
    "#Python String count()\n",
    "#In simple words, count() method searches the substring \n",
    "#in the given string and returns how many times the substring is present in it.\n",
    "#It also takes optional parameters start and\n",
    "#end to specify the starting and ending positions in the string respectively.\n",
    "#count() method only requires a single parameter for execution. \n",
    "#However, it also has two optional parameters:\n",
    "#substring - string whose count is to be found.\n",
    "#start (Optional) - starting index within the string where search starts.\n",
    "#end (Optional) - ending index within the string where search ends.\n",
    "#Note: Index in Python starts from 0, not 1.\n",
    "##############################Count number of occurrences of a given substring############################\n",
    "string = \"We are highlighting some of the best underdog bets, including ones that could net sizable moneyline profits\"\n",
    "substring = \"of\"\n",
    "count = string.count(substring)\n",
    "print(\"This count is:\",count)\n",
    "######################################################################################################################"
   ]
  },
  {
   "cell_type": "code",
   "execution_count": 25,
   "metadata": {},
   "outputs": [
    {
     "name": "stdout",
     "output_type": "stream",
     "text": [
      "I count is: 3\n",
      "O count is: 3\n"
     ]
    }
   ],
   "source": [
    "##################Count number of occurrences of a given substring using start and end#################################\n",
    "string = \"We are highlighting some of the best underdog bets, including ones that could net sizable moneyline profits\"\n",
    "substring = \"i\"\n",
    "substring1 = \"o\"\n",
    "count = string.count(substring, 0, 50 )\n",
    "count1 = string.count(substring1, 0, 50 )\n",
    "print(\"I count is:\",count)\n",
    "print(\"O count is:\",count1)\n",
    "#######################################################################################################################"
   ]
  },
  {
   "cell_type": "code",
   "execution_count": 26,
   "metadata": {},
   "outputs": [
    {
     "name": "stdout",
     "output_type": "stream",
     "text": [
      "False\n",
      "True\n",
      "True\n"
     ]
    }
   ],
   "source": [
    "#Python String endswith()\n",
    "#The endswith() method returns True \n",
    "#if a string ends with the specified suffix. If not, it returns False.\n",
    "#The endswith() takes three parameters:\n",
    "#suffix - String or tuple of suffixes to be checked\n",
    "#start (optional) - Beginning position where suffix is to be checked within the string.\n",
    "#end (optional) - Ending position where suffix is to be checked within the string.\n",
    "#The endswith() method returns a boolean.\n",
    "#It returns True if strings ends with the specified suffix.\n",
    "#It returns False if string doesn't end with the specified suffix.\n",
    "#############################endswith() Without start and end Parameters###################################\n",
    "text = \"I was wondering if after all these years you'd like to meet.\"\n",
    "result = text.endswith('to meet')\n",
    "print(result)\n",
    "result = text.endswith('to meet.')\n",
    "print(result)\n",
    "result = text.endswith('like to meet.')\n",
    "print(result)\n",
    "#############################################################################################################"
   ]
  },
  {
   "cell_type": "code",
   "execution_count": 20,
   "metadata": {},
   "outputs": [
    {
     "name": "stdout",
     "output_type": "stream",
     "text": [
      "Orignal string: Arslan\tshehzad\tkhan\n",
      "Tab size 1 result is: Arslan shehzad khan\n",
      "Tab size 10 result is: Arslan    shehzad   khan\n",
      "Tab size 14 result is: Arslan        shehzad       khan\n",
      "Tab size 16 result is: Arslan          shehzad         khan\n"
     ]
    }
   ],
   "source": [
    "#Python String expandtabs()\n",
    "#The expandtabs() method returns a copy of string with all \n",
    "#tab characters '\\t' replaced with whitespace characters until the next multiple of tabsize parameter.\n",
    "#The expandtabs() takes an integer tabsize argument. \n",
    "#The default tabsize is 8.\n",
    "#####################################expandtabs() With Different Argument##########################################\n",
    "str = 'Arslan\\tshehzad\\tkhan'\n",
    "print('Orignal string:',str)\n",
    "tabsiz1 = (str.expandtabs(1))\n",
    "print('Tab size 1 result is:',tabsiz1)\n",
    "tabsiz10 = (str.expandtabs(10))\n",
    "print('Tab size 10 result is:',tabsiz10)\n",
    "tabsiz14 = (str.expandtabs(14))\n",
    "print('Tab size 14 result is:',tabsiz14)\n",
    "tabsiz16 = (str.expandtabs(16))\n",
    "print('Tab size 16 result is:',tabsiz16)\n",
    "###################################################################################################################"
   ]
  },
  {
   "cell_type": "code",
   "execution_count": 21,
   "metadata": {},
   "outputs": [
    {
     "name": "stdout",
     "output_type": "stream",
     "text": [
      "The string is: pythön!\n",
      "The encoded version is: b'pyth\\xc3\\xb6n!'\n"
     ]
    }
   ],
   "source": [
    "#Python String encode()\n",
    "#By default, encode() method doesn't require any parameters.\n",
    "#It returns utf-8 encoded version of the string. In case of failure, it raises a UnicodeDecodeError exception.\n",
    "#However, it takes two parameters:\n",
    "#encoding - the encoding type a string has to be encoded to\n",
    "#errors - response when encoding fails. There are six types of error response\n",
    "#strict - default response which raises a UnicodeDecodeError exception on failure\n",
    "#ignore - ignores the unencodable unicode from the result\n",
    "#replace - replaces the unencodable unicode to a question mark ?\n",
    "#xmlcharrefreplace - inserts XML character reference instead of unencodable unicode\n",
    "#backslashreplace - inserts a \\uNNNN espace sequence instead of unencodable unicode\n",
    "#namereplace - inserts a \\N{...} escape sequence instead of unencodable unicode\n",
    "##########################################Encode to Default Utf-8 Encoding################################################\n",
    "# unicode string\n",
    "string = 'pythön!'\n",
    "# print string\n",
    "print('The string is:', string)\n",
    "# default encoding to utf-8\n",
    "string_utf = string.encode()\n",
    "# print result\n",
    "print('The encoded version is:', string_utf)\n",
    "##########################################################################################################################"
   ]
  },
  {
   "cell_type": "code",
   "execution_count": 22,
   "metadata": {},
   "outputs": [
    {
     "name": "stdout",
     "output_type": "stream",
     "text": [
      "The string is: pythön!\n",
      "The encoded version (with ignore) is: b'pythn!'\n",
      "The encoded version (with replace) is: b'pyth?n!'\n"
     ]
    }
   ],
   "source": [
    "#########################################Encoding with error parameter#######################################################\n",
    "# unicode string\n",
    "string = 'pythön!'\n",
    "# print string\n",
    "print('The string is:', string)\n",
    "# ignore error\n",
    "print('The encoded version (with ignore) is:', string.encode(\"ascii\", \"ignore\"))\n",
    "# replace error\n",
    "print('The encoded version (with replace) is:', string.encode(\"ascii\", \"replace\"))\n",
    "############################################################################################################################"
   ]
  },
  {
   "cell_type": "code",
   "execution_count": 27,
   "metadata": {},
   "outputs": [
    {
     "name": "stdout",
     "output_type": "stream",
     "text": [
      "Substring 'result': 23\n",
      "Substring 'small ': 41\n",
      "Doesn't contain substring\n"
     ]
    }
   ],
   "source": [
    "#Python String find()\n",
    "#The find() method returns the index of first occurrence of the substring (if found). \n",
    "#If not found, it returns -1.\n",
    "#The find() method takes maximum of three parameters:\n",
    "#sub - It's the substring to be searched in the str string.\n",
    "#start and end (optional) - substring is searched within str[start:end]\n",
    "##################################find() With No start and end Argument####################################################\n",
    "quote = 'All that we are is the result of what we have thought'\n",
    "print(\"Substring 'result':\",quote.find('result'))\n",
    "print(\"Substring 'small ':\",quote.find('have') )\n",
    "# How to use find()\n",
    "if  (quote.find('if,') != -1):\n",
    "  print(\"Contains substring 'be,'\")\n",
    "else:\n",
    "  print(\"Doesn't contain substring\")\n",
    "##########################################################################################################################"
   ]
  },
  {
   "cell_type": "code",
   "execution_count": 44,
   "metadata": {},
   "outputs": [
    {
     "name": "stdout",
     "output_type": "stream",
     "text": [
      "Hello Arslan, your Balance, is 20300.256.\n",
      "Hello Balance, your Arslan, is 20300.256.\n",
      "Hello 20300.256, your Arslan, is 20300.256.\n",
      "Hello 20300.256, your Balance, is Arslan.\n",
      "Hello Arslan, your Balance, is 20300.256.\n",
      "Hello Arslan, your Balance, is 20300.256.\n",
      "Hello Arslan, your Balance, is 20300.256.\n"
     ]
    }
   ],
   "source": [
    "#Python String format()\n",
    "#The string format() method formats the given string into a nicer output in Python.\n",
    "#############################Basic formatting for default, positional and keyword arguments############################\n",
    "# default arguments\n",
    "print(\"Hello {}, your {}, is {}.\".format(\"Arslan\",\"Balance\",20300.256))\n",
    "\n",
    "# positional arguments\n",
    "print(\"Hello {1}, your {0}, is {2}.\".format(\"Arslan\",\"Balance\",20300.256))\n",
    "print(\"Hello {2}, your {0}, is {2}.\".format(\"Arslan\",\"Balance\",20300.256))\n",
    "print(\"Hello {2}, your {1}, is {0}.\".format(\"Arslan\",\"Balance\",20300.256))\n",
    "print(\"Hello {0}, your {1}, is {2}.\".format(\"Arslan\",\"Balance\",20300.256))\n",
    "# keyword arguments\n",
    "\n",
    "print(\"Hello {name}, your {word}, is {blc}.\".format(name=\"Arslan\",word=\"Balance\",blc=20300.256))\n",
    "# mixed arguments\n",
    "print(\"Hello {0}, your {word}, is {blc}.\".format(\"Arslan\",word=\"Balance\",blc=20300.256))\n",
    "########################################################################################################################\n",
    "\n"
   ]
  },
  {
   "cell_type": "code",
   "execution_count": 46,
   "metadata": {},
   "outputs": [
    {
     "name": "stdout",
     "output_type": "stream",
     "text": [
      "Substring 'is fun': 27\n",
      "Substring 'Java': 42\n"
     ]
    }
   ],
   "source": [
    "#Python String index()\n",
    "#The index() method takes three parameters:\n",
    "#sub - substring to be searched in the string str.\n",
    "#start and end(optional) - substring is searched within str[start:end]\n",
    "####################################################################################################################\n",
    "sentence = 'The most courageous act is still to think for yourself.'\n",
    "\n",
    "result = sentence.index('still')\n",
    "print(\"Substring 'is fun':\", result)\n",
    "\n",
    "result = sentence.index('for')\n",
    "print(\"Substring 'Java':\", result)\n",
    "######################################################################################################################"
   ]
  },
  {
   "cell_type": "code",
   "execution_count": 52,
   "metadata": {},
   "outputs": [
    {
     "name": "stdout",
     "output_type": "stream",
     "text": [
      "False\n",
      "False\n",
      "False\n",
      "True\n"
     ]
    }
   ],
   "source": [
    "#Python String isalnum()\n",
    "#The isalnum() method returns \n",
    "#True if all characters in the string are alphanumeric \n",
    "#either alphabets or numbers If not, it returns False.\n",
    "##########################Working of isalnum()#################\n",
    "name = \"Stay hungry, stay foolish\"\n",
    "print(name.isalnum())\n",
    "\n",
    "# contains whitespace\n",
    "name = \"55588 8666\"\n",
    "print(name.isalnum())\n",
    "\n",
    "name = \"A great man is always willing to be little.\"\n",
    "print(name.isalnum())\n",
    "\n",
    "name = \"555888666\"\n",
    "print(name.isalnum())\n",
    "##############################################################"
   ]
  },
  {
   "cell_type": "code",
   "execution_count": 53,
   "metadata": {},
   "outputs": [
    {
     "name": "stdout",
     "output_type": "stream",
     "text": [
      "All characters of string (name) are alphanumeric.\n"
     ]
    }
   ],
   "source": [
    "################################Working of isalnum()##############################################\n",
    "name = \"M0n1caG3ll3r\"\n",
    "\n",
    "if name.isalnum() == True:\n",
    "   print(\"All characters of string (name) are alphanumeric.\")\n",
    "else:\n",
    "    print(\"All characters are not alphanumeric.\")\n",
    "#######################################################################"
   ]
  },
  {
   "cell_type": "code",
   "execution_count": 56,
   "metadata": {},
   "outputs": [
    {
     "name": "stdout",
     "output_type": "stream",
     "text": [
      "False\n",
      "True\n",
      "False\n"
     ]
    }
   ],
   "source": [
    "#Python String isalpha()\n",
    "#The isalpha() method returns True if all characters in the string are alphabets.\n",
    "#If not, it returns False.\n",
    "#The isalpha() doesn't take any parameters.\n",
    "#he isalpha() returns:\n",
    "#True if all characters in the string are alphabets (can be both lowercase and uppercase).\n",
    "#False if at least one character is not alphabet.\n",
    "#################################Working of isalpha()##############################\n",
    "name = \"Stay hungry, stay foolish\"\n",
    "print(name.isalpha())\n",
    "\n",
    "# contains whitespace\n",
    "name = \"Stayhungrystayfoolish\"\n",
    "print(name.isalpha())\n",
    "\n",
    "# contains number\n",
    "name = \"555555555555555\"\n",
    "print(name.isalpha())\n",
    "##############################################################"
   ]
  },
  {
   "cell_type": "code",
   "execution_count": 57,
   "metadata": {},
   "outputs": [
    {
     "name": "stdout",
     "output_type": "stream",
     "text": [
      "All characters are alphabets\n"
     ]
    }
   ],
   "source": [
    "#################################Working of isalpha()##############################\n",
    "name = \"MonicaGeller\"\n",
    "\n",
    "if name.isalpha() == True:\n",
    "   print(\"All characters are alphabets\")\n",
    "else:\n",
    "    print(\"All characters are not alphabets.\")\n",
    "###################################################################################"
   ]
  },
  {
   "cell_type": "code",
   "execution_count": 58,
   "metadata": {},
   "outputs": [
    {
     "name": "stdout",
     "output_type": "stream",
     "text": [
      "True\n",
      "False\n",
      "False\n"
     ]
    }
   ],
   "source": [
    "#Python String isdecimal()\n",
    "#The isdecimal() method returns True if all characters in a string are decimal characters.\n",
    "#If not, it returns False.\n",
    "#isdecimal() Parameters\n",
    "#The isdecimal() doesn't take any parameters.\n",
    "#The isdecimal() returns:\n",
    "#True if all characters in the string are decimal characters.\n",
    "#False if at least one character is not decimal character.\n",
    "##########################Working of isdecimal()###########################\n",
    "s = \"28212\"\n",
    "print(s.isdecimal())\n",
    "\n",
    "# contains alphabets\n",
    "s = \"32ladk3\"\n",
    "print(s.isdecimal())\n",
    "\n",
    "# contains alphabets and spaces\n",
    "s = \"Mo3 nicaG el l22er\"\n",
    "print(s.isdecimal())\n",
    "\n"
   ]
  },
  {
   "cell_type": "code",
   "execution_count": 59,
   "metadata": {},
   "outputs": [
    {
     "name": "stdout",
     "output_type": "stream",
     "text": [
      "True\n",
      "False\n"
     ]
    }
   ],
   "source": [
    "#Python String isdigit()\n",
    "#The isdigit() method returns True if all characters in a string are digits. \n",
    "#If not, it returns False.\n",
    "#The isdigit() doesn't take any parameters.\n",
    "#True if all characters in the string are digits.\n",
    "#False if at least one character is not a digit.\n",
    "################################Working of isdigit()###########################\n",
    "s = \"28212\"\n",
    "print(s.isdigit())\n",
    "\n",
    "# contains alphabets and spaces\n",
    "s = \"Mo3 nicaG el l22er\"\n",
    "print(s.isdigit())\n",
    "######################################################################"
   ]
  },
  {
   "cell_type": "code",
   "execution_count": 60,
   "metadata": {},
   "outputs": [
    {
     "name": "stdout",
     "output_type": "stream",
     "text": [
      "True\n",
      "False\n",
      "False\n",
      "False\n"
     ]
    }
   ],
   "source": [
    "#Python String isidentifier()\n",
    "#The isidentifier() method returns True if the string is a valid identifier in Python. \n",
    "#If not, it returns False.\n",
    "#the isidentifier() method doesn't take any parameters.\n",
    "#The isidentifier() method returns:\n",
    "#True if the string is a valid identifier\n",
    "#False if the string is not a invalid identifier\n",
    "#################################How isidentifier() works?############################\n",
    "str = 'Python'\n",
    "print(str.isidentifier())\n",
    "\n",
    "str = 'Py thon'\n",
    "print(str.isidentifier())\n",
    "\n",
    "str = '22Python'\n",
    "print(str.isidentifier())\n",
    "\n",
    "str = ''\n",
    "print(str.isidentifier())\n",
    "###################################################################################"
   ]
  },
  {
   "cell_type": "code",
   "execution_count": 61,
   "metadata": {},
   "outputs": [
    {
     "name": "stdout",
     "output_type": "stream",
     "text": [
      "root33 is a valid identifier.\n",
      "33root is not a valid identifier.\n",
      "root 33 is not a valid identifier.\n"
     ]
    }
   ],
   "source": [
    "#########################################isidentifier() works###################\n",
    "str = 'root33'\n",
    "if str.isidentifier() == True:\n",
    "  print(str, 'is a valid identifier.')\n",
    "else:\n",
    "  print(str, 'is not a valid identifier.')\n",
    "  \n",
    "str = '33root'\n",
    "if str.isidentifier() == True:\n",
    "  print(str, 'is a valid identifier.')\n",
    "else:\n",
    "  print(str, 'is not a valid identifier.')\n",
    "  \n",
    "str = 'root 33'\n",
    "if str.isidentifier() == True:\n",
    "  print(str, 'is a valid identifier.')\n",
    "else:\n",
    "  print(str, 'is not a valid identifier.')\n",
    "############################################"
   ]
  },
  {
   "cell_type": "code",
   "execution_count": 62,
   "metadata": {},
   "outputs": [
    {
     "name": "stdout",
     "output_type": "stream",
     "text": [
      "True\n",
      "True\n",
      "False\n"
     ]
    }
   ],
   "source": [
    "#Python String islower()\n",
    "#The islower() method returns True if all alphabets in a string are lowercase alphabets. \n",
    "#If the string contains at least one uppercase alphabet, it returns False.\n",
    "#The islower() method doesn't take any parameters.\n",
    "#The islower() method returns:\n",
    "#True if all alphabets that exist in the string are lowercase alphabets.\n",
    "#False if the string contains at least one uppercase alphabet.\n",
    "##################################Return Value from islower()#############################\n",
    "s = 'this is good'\n",
    "print(s.islower())\n",
    "\n",
    "s = 'th!s is a1so g00d'\n",
    "print(s.islower())\n",
    "\n",
    "s = 'this is Not good'\n",
    "print(s.islower())\n",
    "###################################################"
   ]
  },
  {
   "cell_type": "code",
   "execution_count": 63,
   "metadata": {},
   "outputs": [
    {
     "name": "stdout",
     "output_type": "stream",
     "text": [
      "Does not contain uppercase letter.\n",
      "Contains uppercase letter.\n"
     ]
    }
   ],
   "source": [
    "###########################################Return Value from islower######################\n",
    "s = 'this is good'\n",
    "if s.islower() == True:\n",
    "  print('Does not contain uppercase letter.')\n",
    "else:\n",
    "  print('Contains uppercase letter.')\n",
    "  \n",
    "s = 'this is Good'\n",
    "if s.islower() == True:\n",
    "  print('Does not contain uppercase letter.')\n",
    "else:\n",
    "  print('Contains uppercase letter.')\n",
    "########################################"
   ]
  },
  {
   "cell_type": "code",
   "execution_count": 64,
   "metadata": {},
   "outputs": [
    {
     "name": "stdout",
     "output_type": "stream",
     "text": [
      "True\n",
      "True\n",
      "True\n",
      "False\n"
     ]
    }
   ],
   "source": [
    "#Python String isnumeric()\n",
    "#The isnumeric() method returns True if all characters in a string are numeric characters.\n",
    "#If not, it returns False.\n",
    "#A numeric character has following properties:\n",
    "#Numeric_Type=Decimal\n",
    "#Numeric_Type=Digit\n",
    "#Numeric_Type=Numeric\n",
    "#isnumeric() Parameters\n",
    "#The isnumeric() method doesn't take any parameters.\n",
    "################################ Working of isnumeric()#####################\n",
    "s = '1242323'\n",
    "print(s.isnumeric())\n",
    "#s = '²3455'\n",
    "s = '\\u00B23455'\n",
    "print(s.isnumeric())\n",
    "# s = '½'\n",
    "s = '\\u00BD'\n",
    "print(s.isnumeric())\n",
    "s = '1242323'\n",
    "s='python12'\n",
    "print(s.isnumeric())\n",
    "########################################"
   ]
  },
  {
   "cell_type": "code",
   "execution_count": 65,
   "metadata": {},
   "outputs": [
    {
     "name": "stdout",
     "output_type": "stream",
     "text": [
      "All characters are numeric.\n"
     ]
    }
   ],
   "source": [
    "############################Working of isnumeric()#######################\n",
    "s = '²3455'\n",
    "s = '\\u00B23455'\n",
    "if s.isnumeric() == True:\n",
    "  print('All characters are numeric.')\n",
    "else:\n",
    "  print('All characters are not numeric.')\n",
    "########################################################################"
   ]
  },
  {
   "cell_type": "code",
   "execution_count": 66,
   "metadata": {},
   "outputs": [
    {
     "name": "stdout",
     "output_type": "stream",
     "text": [
      "Space is a printable\n",
      "True\n",
      "\n",
      "New Line is printable\n",
      "False\n",
      "\n",
      "Empty string printable? True\n"
     ]
    }
   ],
   "source": [
    "#Python String isprintable()\n",
    "#The isprintable() methods returns True if all characters in the string are printable or the string is empty. \n",
    "#If not, it returns False.\n",
    "#Characters that occupies printing space on the screen are known as printable characters. For example:\n",
    "#letters and symbols\n",
    "#digits\n",
    "#punctuation\n",
    "#whitespace\n",
    "#The isprintable() method doesn't take any parameters.\n",
    "#The isprintable() method returns:\n",
    "#True if the string is empty or all characters in the string are printable\n",
    "#False if the string contains at least one non-printable() character\n",
    "##################################Working of isprintable()###############################\n",
    "s = 'Space is a printable'\n",
    "print(s)\n",
    "print(s.isprintable())\n",
    "\n",
    "s = '\\nNew Line is printable'\n",
    "print(s)\n",
    "print(s.isprintable())\n",
    "\n",
    "s = ''\n",
    "print('\\nEmpty string printable?', s.isprintable())\n",
    "#####################################################################\n",
    "\n"
   ]
  },
  {
   "cell_type": "code",
   "execution_count": 67,
   "metadata": {},
   "outputs": [
    {
     "name": "stdout",
     "output_type": "stream",
     "text": [
      "Not Printable\n",
      "Printable\n"
     ]
    }
   ],
   "source": [
    "##################################Working of isprintable()###############################\n",
    "# written using ASCII\n",
    "# chr(27) is escape character\n",
    "# char(97) is letter 'a'\n",
    "s = chr(27) + chr(97)\n",
    "\n",
    "if s.isprintable() == True:\n",
    "  print('Printable')\n",
    "else:\n",
    "  print('Not Printable')\n",
    "  \n",
    "s = '2+2 = 4'\n",
    "\n",
    "if s.isprintable() == True:\n",
    "  print('Printable')\n",
    "else:\n",
    "  print('Not Printable')\n",
    "####################################"
   ]
  },
  {
   "cell_type": "code",
   "execution_count": 68,
   "metadata": {},
   "outputs": [
    {
     "name": "stdout",
     "output_type": "stream",
     "text": [
      "True\n",
      "False\n",
      "False\n"
     ]
    }
   ],
   "source": [
    "#Python String isspace()\n",
    "#The isspace() method returns True if there are only whitespace characters in the string. \n",
    "#If not, it return False.\n",
    "#the isspace() method doesn't take any parameters.\n",
    "#The isspace() method returns:\n",
    "#True if all characters in the string are whitespace characters\n",
    "#False if the string is empty or contains at least one non-printable() character\n",
    "####################Working of isspace()##################\n",
    "s = '   \\t'\n",
    "print(s.isspace())\n",
    "\n",
    "s = ' a '\n",
    "print(s.isspace())\n",
    "\n",
    "s = ''\n",
    "print(s.isspace())\n",
    "##############################"
   ]
  },
  {
   "cell_type": "code",
   "execution_count": 69,
   "metadata": {},
   "outputs": [
    {
     "name": "stdout",
     "output_type": "stream",
     "text": [
      "All whitespace characters\n",
      "Contains non-whitespace characters.\n"
     ]
    }
   ],
   "source": [
    "####################Working of isspace()##################\n",
    "s = '\\t  \\n'\n",
    "if s.isspace() == True:\n",
    "  print('All whitespace characters')\n",
    "else:\n",
    "  print('Contains non-whitespace characters')\n",
    "  \n",
    "s = '2+2 = 4'\n",
    "\n",
    "if s.isspace() == True:\n",
    "  print('All whitespace characters')\n",
    "else:\n",
    "  print('Contains non-whitespace characters.')\n",
    "#####################################"
   ]
  },
  {
   "cell_type": "code",
   "execution_count": 70,
   "metadata": {},
   "outputs": [
    {
     "name": "stdout",
     "output_type": "stream",
     "text": [
      "True\n",
      "False\n",
      "True\n",
      "True\n",
      "False\n"
     ]
    }
   ],
   "source": [
    "#Python String istitle()\n",
    "#The istitle() returns True if the string is a titlecased string. \n",
    "#If not, it returns False.\n",
    "#The istitle() method doesn't take any parameters.\n",
    "#The istitle() method returns:\n",
    "#True if the string is a titlecased string\n",
    "#False if the string is not a titlecased string or an empty string\n",
    "##############################Working of istitle()#################\n",
    "s = 'Python Is Good.'\n",
    "print(s.istitle())\n",
    "\n",
    "s = 'Python is good'\n",
    "print(s.istitle())\n",
    "\n",
    "s = 'This Is @ Symbol.'\n",
    "print(s.istitle())\n",
    "\n",
    "s = '99 Is A Number'\n",
    "print(s.istitle())\n",
    "\n",
    "s = 'PYTHON'\n",
    "print(s.istitle())\n",
    "################################"
   ]
  },
  {
   "cell_type": "code",
   "execution_count": 74,
   "metadata": {},
   "outputs": [
    {
     "name": "stdout",
     "output_type": "stream",
     "text": [
      "Titlecased String\n",
      "Not a Titlecased String\n",
      "Not a Titlecased String\n"
     ]
    }
   ],
   "source": [
    "##############################Working of istitle()#################\n",
    "s = 'I Love Python.'\n",
    "if s.istitle() == True:\n",
    "  print('Titlecased String')\n",
    "else:\n",
    "  print('Not a Titlecased String')\n",
    "  \n",
    "s = 'PYthon'\n",
    "if s.istitle() == True:\n",
    "  print('Titlecased String')\n",
    "else:\n",
    "  print('Not a Titlecased String')\n",
    "  \n",
    "s = 'PYthon'\n",
    "if s.istitle() == True:\n",
    "  print('Titlecased String')\n",
    "else:\n",
    "  print('Not a Titlecased String')\n",
    "\n",
    "#########################################"
   ]
  },
  {
   "cell_type": "code",
   "execution_count": 75,
   "metadata": {},
   "outputs": [
    {
     "name": "stdout",
     "output_type": "stream",
     "text": [
      "True\n",
      "True\n",
      "False\n"
     ]
    }
   ],
   "source": [
    "#Python String isupper()\n",
    "#The string isupper() method returns whether or \n",
    "# not all characters in a string are uppercased or not.\n",
    "#The isupper() method doesn't take any parameters.\n",
    "#The isupper() method returns:\n",
    "#True if all characters in a string are uppercase characters\n",
    "#False if any characters in a string are lowercase characters\n",
    "####################Return value of isupper()#############################\n",
    "# example string\n",
    "string = \"THIS IS GOOD!\"\n",
    "print(string.isupper());\n",
    "\n",
    "# numbers in place of alphabets\n",
    "string = \"THIS IS ALSO G00D!\"\n",
    "print(string.isupper());\n",
    "\n",
    "# lowercase string\n",
    "string = \"THIS IS not GOOD!\"\n",
    "print(string.isupper());\n",
    "########################################################\n",
    "\n"
   ]
  },
  {
   "cell_type": "code",
   "execution_count": 76,
   "metadata": {},
   "outputs": [
    {
     "name": "stdout",
     "output_type": "stream",
     "text": [
      "Does not contain lowercase letter.\n",
      "Contains lowercase letter.\n"
     ]
    }
   ],
   "source": [
    "####################Return value of isupper()#############################\n",
    "string = 'THIS IS GOOD'\n",
    "if string.isupper() == True:\n",
    "  print('Does not contain lowercase letter.')\n",
    "else:\n",
    "  print('Contains lowercase letter.')\n",
    "  \n",
    "string = 'THIS IS gOOD'\n",
    "if string.isupper() == True:\n",
    "  print('Does not contain lowercase letter.')\n",
    "else:\n",
    "  print('Contains lowercase letter.')\n",
    "##################################################"
   ]
  },
  {
   "cell_type": "code",
   "execution_count": 77,
   "metadata": {},
   "outputs": [
    {
     "name": "stdout",
     "output_type": "stream",
     "text": [
      "1, 2, 3, 4\n",
      "1, 2, 3, 4\n",
      "s1.join(s2): 1abc2abc3\n",
      "s2.join(s1): a123b123c\n"
     ]
    }
   ],
   "source": [
    "#Python String join()\n",
    "#The join() is a string method which returns a \n",
    "#string concatenated with the elements of an iterable.\n",
    "#The join() method takes an iterable - objects capable of returning its members one at a time\n",
    "#Some of the example of iterables are:\n",
    "#Native datatypes - List, Tuple, String, Dictionary and Set\n",
    "#File objects and objects you define with an __iter__() or __getitem()__ method\n",
    "#The join() method returns a string concatenated with the elements of an iterable.\n",
    "#If the iterable contains any non-string values, it raises a TypeError exception.\n",
    "###################################How join() method works?#######################\n",
    "numList = ['1', '2', '3', '4']\n",
    "seperator = ', '\n",
    "print(seperator.join(numList))\n",
    "\n",
    "numTuple = ('1', '2', '3', '4')\n",
    "print(seperator.join(numTuple))\n",
    "\n",
    "s1 = 'abc'\n",
    "s2 = '123'\n",
    "\n",
    "\"\"\" Each character of s2 is concatenated to the front of s1\"\"\" \n",
    "print('s1.join(s2):', s1.join(s2))\n",
    "\n",
    "\"\"\" Each character of s1 is concatenated to the front of s2\"\"\" \n",
    "print('s2.join(s1):', s2.join(s1))\n",
    "#################################################################"
   ]
  },
  {
   "cell_type": "code",
   "execution_count": 78,
   "metadata": {},
   "outputs": [
    {
     "name": "stdout",
     "output_type": "stream",
     "text": [
      "cat  \n"
     ]
    }
   ],
   "source": [
    "#Python String ljust()\n",
    "#The string ljust() method returns a left-justified string of a given minimum width.\n",
    "#The ljust() method takes two parameters:\n",
    "#width - width of the given string. If width is less than or equal to the length of the string, original string is returned.\n",
    "#fillchar (Optional) - character to fill the remaining space of the width\n",
    "#he ljust() method returns the left-justified string within the given minimum width.\n",
    "#If fillchar is defined, it also fills the remaining space with the defined character.\n",
    "#################################Left justify string of minimum width#####################\n",
    "# example string\n",
    "string = 'cat'\n",
    "width = 5\n",
    "\n",
    "# print left justified string\n",
    "print(string.ljust(width))\n",
    "###############################################\n"
   ]
  },
  {
   "cell_type": "code",
   "execution_count": 79,
   "metadata": {},
   "outputs": [
    {
     "name": "stdout",
     "output_type": "stream",
     "text": [
      "cat**\n"
     ]
    }
   ],
   "source": [
    "#################################Left justify string of minimum width#####################\n",
    "# example string\n",
    "string = 'cat'\n",
    "width = 5\n",
    "fillchar = '*'\n",
    "\n",
    "# print left justified string\n",
    "print(string.ljust(width, fillchar))\n",
    "############################################"
   ]
  },
  {
   "cell_type": "code",
   "execution_count": 81,
   "metadata": {},
   "outputs": [
    {
     "name": "stdout",
     "output_type": "stream",
     "text": [
      "  cat\n",
      "**cat\n"
     ]
    }
   ],
   "source": [
    "#Python String rjust()\n",
    "#The string rjust() method returns a right-justified string of a given minimum width.\n",
    "#The rjust() method takes two parameters:\n",
    "#width - width of the given string. If width is less than or equal to the length of the string, original string is returned.\n",
    "#fillchar (Optional) - character to fill the remaining space of the width\n",
    "#The rjust() method returns the right-justified string within the given minimum width.\n",
    "#If fillchar is defined, it fills the remaining space with the defined character.\n",
    "#############################Right justify string of minimum width########################\n",
    "# example string\n",
    "string = 'cat'\n",
    "width = 5\n",
    "\n",
    "# print right justified string\n",
    "print(string.rjust(width))\n",
    "##########################################\n",
    "# example string\n",
    "string = 'cat'\n",
    "width = 5\n",
    "fillchar = '*'\n",
    "\n",
    "# print right justified string\n",
    "print(string.rjust(width, fillchar))\n",
    "########################################\n"
   ]
  },
  {
   "cell_type": "code",
   "execution_count": 83,
   "metadata": {},
   "outputs": [
    {
     "name": "stdout",
     "output_type": "stream",
     "text": [
      "this should be lowercase!\n",
      "th!s sh0uld b3 l0w3rcas3!\n",
      "The strings are same.\n"
     ]
    }
   ],
   "source": [
    "#Python String lower()\n",
    "#The string lower() method converts all uppercase characters in a string into lowercase characters and returns it.\n",
    "#The lower() method doesn't take any parameters.\n",
    "#The lower() method returns the lowercased string from the given string.\n",
    "#It converts all uppercase characters to lowercase.\n",
    "#If no uppercase characters exist, it returns the original string.\n",
    "#####################Convert a string to lowercase#########################\n",
    "# example string\n",
    "string = \"THIS SHOULD BE LOWERCASE!\"\n",
    "print(string.lower())\n",
    "\n",
    "# string with numbers\n",
    "# all alphabets whould be lowercase\n",
    "string = \"Th!s Sh0uLd B3 L0w3rCas3!\"\n",
    "print(string.lower())\n",
    "############################################Convert a string to lowercase##############\n",
    "# first string\n",
    "firstString = \"PYTHON IS AWESOME!\"\n",
    "\n",
    "# second string\n",
    "secondString = \"PyThOn Is AwEsOmE!\"\n",
    "\n",
    "if(firstString.lower() == secondString.lower()):\n",
    "    print(\"The strings are same.\")\n",
    "else:\n",
    "    print(\"The strings are not same.\")\n",
    "#########################################"
   ]
  },
  {
   "cell_type": "code",
   "execution_count": 85,
   "metadata": {},
   "outputs": [
    {
     "name": "stdout",
     "output_type": "stream",
     "text": [
      "THIS SHOULD BE UPPERCASE!\n",
      "TH!S SH0ULD B3 UPP3RCAS3!\n",
      "The strings are same.\n"
     ]
    }
   ],
   "source": [
    "#Python String upper()\n",
    "#The string upper() method converts all lowercase characters in a string into uppercase characters and returns it.\n",
    "#The upper() method doesn't take any parameters.\n",
    "#The upper() method returns the uppercased string from the given string. It converts all lowecase characters to uppercase.\n",
    "#If no lowercase characters exist, it returns the original string.\n",
    "###########################Convert a string to uppercase########################\n",
    "# example string\n",
    "string = \"this should be uppercase!\"\n",
    "print(string.upper())\n",
    "\n",
    "# string with numbers\n",
    "# all alphabets whould be lowercase\n",
    "string = \"Th!s Sh0uLd B3 uPp3rCas3!\"\n",
    "print(string.upper())\n",
    "####################################How upper() is used in a program#######################\n",
    "# first string\n",
    "firstString = \"python is awesome!\"\n",
    "\n",
    "# second string\n",
    "secondString = \"PyThOn Is AwEsOmE!\"\n",
    "\n",
    "if(firstString.upper() == secondString.upper()):\n",
    "    print(\"The strings are same.\")\n",
    "else:\n",
    "    print(\"The strings are not same.\")\n",
    "##############################################################################\n",
    "\n"
   ]
  },
  {
   "cell_type": "code",
   "execution_count": 86,
   "metadata": {},
   "outputs": [
    {
     "name": "stdout",
     "output_type": "stream",
     "text": [
      "this should all be lowercase.\n",
      "THIS SHOULD ALL BE UPPERCASE.\n",
      "tHiS sHoUlD bE mIxEd CaSeD.\n"
     ]
    }
   ],
   "source": [
    "#Python String swapcase()\n",
    "#The string swapcase() method converts all uppercase characters to lowercase \n",
    "#and all lowercase characters to uppercase characters of the given string, and returns it.\n",
    "#The swapcase() method doesn't take any parameters.\n",
    "#The swapcase() method returns the string where all uppercase characters are converted to lowercase,\n",
    "#and lowercase characters are converted to uppercase.\n",
    "#####################################Swap lowercase to uppercase and vice versa using swapcase()###############\n",
    "# example string\n",
    "string = \"THIS SHOULD ALL BE LOWERCASE.\"\n",
    "print(string.swapcase())\n",
    "\n",
    "string = \"this should all be uppercase.\"\n",
    "print(string.swapcase())\n",
    "\n",
    "string = \"ThIs ShOuLd Be MiXeD cAsEd.\"\n",
    "print(string.swapcase())\n",
    "#######################################"
   ]
  },
  {
   "cell_type": "code",
   "execution_count": 87,
   "metadata": {},
   "outputs": [
    {
     "name": "stdout",
     "output_type": "stream",
     "text": [
      "this is good \n",
      "   this is good \n",
      "his is good \n",
      "www.programiz.com/\n"
     ]
    }
   ],
   "source": [
    "#Python String lstrip()\n",
    "#The lstrip() method returns a copy of the string with leading characters removed (based on the string argument passed).\n",
    "#chars (optional) - a string specifying the set of characters to be removed.\n",
    "#If the chars argument is not provided, all leading whitespaces are removed from the string.\n",
    "#The lstrip() returns a copy of the string with leading characters stripped.\n",
    "#All combinations of characters in the chars argument are removed from the left of the string until first mismatch.\n",
    "######################################Working of lstrip################\n",
    "random_string = '   this is good '\n",
    "\n",
    "# Leading whitepsace are removed\n",
    "print(random_string.lstrip())\n",
    "\n",
    "# Argument doesn't contain space\n",
    "# No characters are removed.\n",
    "print(random_string.lstrip('sti'))\n",
    "\n",
    "print(random_string.lstrip('s ti'))\n",
    "\n",
    "website = 'https://www.programiz.com/'\n",
    "print(website.lstrip('htps:/.'))\n",
    "#########################\n"
   ]
  },
  {
   "cell_type": "code",
   "execution_count": 88,
   "metadata": {},
   "outputs": [
    {
     "name": "stdout",
     "output_type": "stream",
     "text": [
      " this is good\n",
      " this is good\n",
      " this is g\n",
      "www.programiz.co\n"
     ]
    }
   ],
   "source": [
    "#Python String rstrip()\n",
    "#The rstrip() method returns a copy of the string with trailing characters removed (based on the string argument passed).\n",
    "#hars (optional) - a string specifying the set of characters to be removed.\n",
    "#If the chars argument is not provided, all whitspaces on the right are removed from the string.\n",
    "#The rstrip() returns a copy of the string with trailing characters stripped.\n",
    "#All combinations of characters in the chars argument are removed from the right of the string until first mismatch.\n",
    "##############################Working of rstrip##################################\n",
    "random_string = ' this is good'\n",
    "\n",
    "# Leading whitepsace are removed\n",
    "print(random_string.rstrip())\n",
    "\n",
    "# Argument doesn't contain 'd'\n",
    "# No characters are removed.\n",
    "print(random_string.rstrip('si oo'))\n",
    "\n",
    "print(random_string.rstrip('sid oo'))\n",
    "\n",
    "website = 'www.programiz.com/'\n",
    "print(website.rstrip('m/.'))\n",
    "##############################################"
   ]
  },
  {
   "cell_type": "code",
   "execution_count": 89,
   "metadata": {},
   "outputs": [
    {
     "name": "stdout",
     "output_type": "stream",
     "text": [
      "xoxo love xoxo\n",
      "lov\n",
      " xoxo love xoxo   \n",
      "droid is awesome\n"
     ]
    }
   ],
   "source": [
    "#Python String strip()\n",
    "#The strip() method returns a copy of the string with both leading and\n",
    "#trailing characters removed (based on the string argument passed).\n",
    "#chars (optional) - a string specifying the set of characters to be removed.\n",
    "#If the chars argument is not provided, all leading and trailing whitespaces are removed from the string.\n",
    "#The strip() returns a copy of the string with both leading and trailing characters stripped.\n",
    "#When the combination of characters in the chars argument mismatches the character of\n",
    "#the string in the left, it stops removing the leading characters.\n",
    "#Similarly, when the combination of characters in the chars argument mismatches \n",
    "#the character of the string in the right, it stops removing the trailing characters.\n",
    "#######################################\n",
    "string = ' xoxo love xoxo   '\n",
    "\n",
    "# Leading whitepsace are removed\n",
    "print(string.strip())\n",
    "\n",
    "print(string.strip(' xoxoe'))\n",
    "\n",
    "# Argument doesn't contain space\n",
    "# No characters are removed.\n",
    "print(string.strip('sti'))\n",
    "\n",
    "string = 'android is awesome'\n",
    "print(string.strip('an'))\n",
    "############################################"
   ]
  },
  {
   "cell_type": "code",
   "execution_count": 90,
   "metadata": {},
   "outputs": [
    {
     "name": "stdout",
     "output_type": "stream",
     "text": [
      "('Python ', 'is ', 'fun')\n",
      "('Python is fun', '', '')\n",
      "('Python ', 'is', \" fun, isn't it\")\n"
     ]
    }
   ],
   "source": [
    "#Python String partition()\n",
    "#The partition() method splits the string at the first occurrence of\n",
    "#the argument string and returns a tuple containing the part the before separator,\n",
    "#argument string and the part after the separator.\n",
    "#The partition() method takes a string parameter separator that separates the string at the first occurrence of it.\n",
    "#The partition method returns a 3-tuple containing:\n",
    "#the part before the separator, separator parameter, and the part after the separator\n",
    "#if the separator parameter is found in the string\n",
    "#string itself and two empty strings if the separator parameter is not found\n",
    "#########################\n",
    "string = \"Python is fun\"\n",
    "\n",
    "# 'is' separator is found\n",
    "print(string.partition('is '))\n",
    "\n",
    "# 'not' separator is not found\n",
    "print(string.partition('not '))\n",
    "\n",
    "string = \"Python is fun, isn't it\"\n",
    "\n",
    "# splits at first occurence of 'is'\n",
    "print(string.partition('is'))\n",
    "######################################\n",
    "\n"
   ]
  },
  {
   "cell_type": "code",
   "execution_count": 91,
   "metadata": {},
   "outputs": [
    {
     "name": "stdout",
     "output_type": "stream",
     "text": [
      "{97: '123', 98: '456', 99: '789'}\n",
      "{97: '123', 98: '456', 99: '789'}\n"
     ]
    }
   ],
   "source": [
    "#Python String maketrans()\n",
    "#The string maketrans() method returns a mapping table for translation usable for translate() method.\n",
    "#The maketrans() method takes 3 parameters:\n",
    "#x - If only one argument is supplied, it must be a dictionary.\n",
    "#The dictionary should contain 1-to-1 mapping from a single character string to\n",
    "#its translation OR a unicode number (97 for 'a') to its translation.\n",
    "#y - If two arguments are passed, it must be two strings with equal length.\n",
    "#Each character in the first string is a replacement to its corresponding index in the second string.\n",
    "#z - If three arguments are passed, each character in the third argument is mapped to None.\n",
    "#The maketrans() method returns a translation table with a 1-to-1 mapping of a Unicode ordinal to its translation/replacement.\n",
    "##################################Translation table using a dictionary with maketrans()###################\n",
    "# example dictionary\n",
    "dict = {\"a\": \"123\", \"b\": \"456\", \"c\": \"789\"}\n",
    "string = \"abc\"\n",
    "print(string.maketrans(dict))\n",
    "\n",
    "# example dictionary\n",
    "dict = {97: \"123\", 98: \"456\", 99: \"789\"}\n",
    "string = \"abc\"\n",
    "print(string.maketrans(dict))\n",
    "##################################\n"
   ]
  },
  {
   "cell_type": "code",
   "execution_count": null,
   "metadata": {},
   "outputs": [],
   "source": []
  }
 ],
 "metadata": {
  "kernelspec": {
   "display_name": "Python 3",
   "language": "python",
   "name": "python3"
  },
  "language_info": {
   "codemirror_mode": {
    "name": "ipython",
    "version": 3
   },
   "file_extension": ".py",
   "mimetype": "text/x-python",
   "name": "python",
   "nbconvert_exporter": "python",
   "pygments_lexer": "ipython3",
   "version": "3.7.4"
  }
 },
 "nbformat": 4,
 "nbformat_minor": 2
}
